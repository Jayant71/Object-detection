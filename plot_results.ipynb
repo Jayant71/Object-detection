{
 "cells": [
  {
   "cell_type": "code",
   "execution_count": null,
   "metadata": {},
   "outputs": [],
   "source": [
    "import json\n",
    "import pandas as pd\n",
    "import seaborn as sns\n",
    "import matplotlib.pyplot as plt\n",
    "import os\n",
    "\n",
    "# Function to parse the JSON data and split into loss and mAP dataframes\n",
    "def parse_data(data):\n",
    "    loss_data = []\n",
    "    map_data = []\n",
    "\n",
    "    for item in data:\n",
    "        loss_item = {key: item[key] for key in item if 'loss' in key or key == 'iter'}\n",
    "        map_item = {key: item[key] for key in item if 'coco/bbox_mAP' in key or key == 'step'}\n",
    "        loss_data.append(loss_item)\n",
    "        map_data.append(map_item)\n",
    "\n",
    "    return pd.DataFrame(loss_data), pd.DataFrame(map_data)\n",
    "\n",
    "# Load the JSON data from the file\n",
    "with open('//home/jayant/Projects/mmdetection/latest/work_dirs/yolov5_n-v61_syncbn_fast_1xb8-300e_cardboard/20240313_223938/vis_data/20240313_223938.json', 'r') as f:\n",
    "    data = [json.loads(line) for line in f]\n",
    "\n",
    "# Parse data into separate DataFrames\n",
    "df_loss, df_map = parse_data(data)\n",
    "\n",
    "df_loss = df_loss.dropna()\n",
    "df_map = df_map.dropna()\n",
    "\n",
    "# Set up the figure and axes\n",
    "fig, (ax1, ax2) = plt.subplots(1, 2, figsize=(10, 5))\n",
    "\n",
    "# Plot losses\n",
    "sns.lineplot(data=df_loss, x='iter', y='loss', ax=ax1, label='Total Loss')\n",
    "sns.lineplot(data=df_loss, x='iter', y='loss_cls', ax=ax1, label='Classification Loss')\n",
    "sns.lineplot(data=df_loss, x='iter', y='loss_bbox', ax=ax1, label='Bounding Box Loss')\n",
    "# sns.lineplot(data=df_loss, x='iter', y='loss_rpn_bbox', ax=ax1, label='rpn bbox Loss')\n",
    "# sns.lineplot(data=df_loss, x='iter', y='loss_rpn_cls', ax=ax1, label='rpn Classification Loss')\n",
    "ax1.set_xlabel('Iter')\n",
    "ax1.set_ylabel('Loss')\n",
    "ax1.set_title('Losses over Steps')\n",
    "ax1.set_ylim(0, 1.6)  # Set y-axis limits for loss plot\n",
    "\n",
    "# Plot mAPs\n",
    "sns.lineplot(data=df_map, x='step', y='coco/bbox_mAP', ax=ax2, label='Overall mAP')\n",
    "sns.lineplot(data=df_map, x='step', y='coco/bbox_mAP_50', ax=ax2, label='mAP@0.50')\n",
    "sns.lineplot(data=df_map, x='step', y='coco/bbox_\n"
   ]
  }
 ],
 "metadata": {
  "kernelspec": {
   "display_name": ".base",
   "language": "python",
   "name": "python3"
  },
  "language_info": {
   "name": "python",
   "version": "3.10.12"
  }
 },
 "nbformat": 4,
 "nbformat_minor": 2
}
